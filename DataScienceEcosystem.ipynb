{
 "cells": [
  {
   "cell_type": "markdown",
   "id": "2daf7df3-4c7d-4424-9f6b-049754699680",
   "metadata": {},
   "source": [
    "<h1>Data Science Tools and Ecosystem<h1>"
   ]
  },
  {
   "cell_type": "markdown",
   "id": "6b77faf2-b2c1-4583-9761-f728f0ad978e",
   "metadata": {},
   "source": [
    "In this notebook, Data Science Tools and Ecosystem are summarized. The tools and libraires that are used in data science are summarized."
   ]
  },
  {
   "cell_type": "markdown",
   "id": "ce47695a-1917-417f-a231-92a03695f20c",
   "metadata": {},
   "source": [
    "Some of the popular languages that Data Scientists use are:\n",
    "1. Python\n",
    "2. R\n",
    "3. Julia\n",
    "4. SQL\n",
    "\n",
    "\n",
    "\n",
    "\n",
    "\n"
   ]
  },
  {
   "cell_type": "markdown",
   "id": "887f4a8e-f08c-46b6-abfb-fe4a89d97b07",
   "metadata": {},
   "source": [
    "Some of the commonly used libraries used by Data Scientists include:\n",
    "1. Numpy\n",
    "2. Pandas\n",
    "3. Scikit-learn\n",
    "4. Matplotlib\n",
    "5. Seaborn"
   ]
  },
  {
   "cell_type": "markdown",
   "id": "dd2d8d2d-f1df-415e-a20a-058a1aa8ab37",
   "metadata": {
    "tags": []
   },
   "source": [
    "| Data Science Tools |\n",
    "|--------------------|\n",
    "| JupyterLab        |\n",
    "| RStudio           |\n",
    "| PyCharm           |\n",
    "\n"
   ]
  },
  {
   "cell_type": "markdown",
   "id": "6fccca45-5bfd-4717-a36c-727b6916f543",
   "metadata": {
    "tags": []
   },
   "source": [
    "<h3>Below are a few examples of evaluating arithmetic expressions in Python</h3>\n"
   ]
  },
  {
   "cell_type": "code",
   "execution_count": 5,
   "id": "b4908464-0318-4dd4-b096-10e0543264cf",
   "metadata": {
    "tags": []
   },
   "outputs": [
    {
     "data": {
      "text/plain": [
       "17"
      ]
     },
     "execution_count": 5,
     "metadata": {},
     "output_type": "execute_result"
    }
   ],
   "source": [
    "#In the below code we are first multiplying 3 by 4 and we are addinf 5 to the result. It wull give us 17\n",
    "(3*4)+5"
   ]
  },
  {
   "cell_type": "code",
   "execution_count": 8,
   "id": "524924bd-0b9c-47e4-819e-293c4aedbd62",
   "metadata": {
    "tags": []
   },
   "outputs": [
    {
     "name": "stdout",
     "output_type": "stream",
     "text": [
      "3.3333333333333335\n"
     ]
    }
   ],
   "source": [
    "# This will convert 200 minutes to hours by diving by 60\n",
    "minutes = 200\n",
    "hours = minutes / 60\n",
    "print(hours)"
   ]
  },
  {
   "cell_type": "markdown",
   "id": "0e9fbdb5-0ec5-452b-8f1c-d89227cf530c",
   "metadata": {
    "tags": []
   },
   "source": [
    "**Objectives:**\n",
    "- Python\n",
    "- R \n",
    "- Numpy\n",
    "- Pandas\n",
    "- Matplotlib"
   ]
  },
  {
   "cell_type": "markdown",
   "id": "3316dd9f-0585-4c39-bc6b-49daa455521e",
   "metadata": {
    "tags": []
   },
   "source": [
    "<h2>Author</h2>\n",
    "Mohammad Maaz Ansari"
   ]
  },
  {
   "cell_type": "code",
   "execution_count": null,
   "id": "6f83eb1c-b90a-426a-a971-c3c6c6a149da",
   "metadata": {},
   "outputs": [],
   "source": []
  }
 ],
 "metadata": {
  "kernelspec": {
   "display_name": "Python",
   "language": "python",
   "name": "conda-env-python-py"
  },
  "language_info": {
   "codemirror_mode": {
    "name": "ipython",
    "version": 3
   },
   "file_extension": ".py",
   "mimetype": "text/x-python",
   "name": "python",
   "nbconvert_exporter": "python",
   "pygments_lexer": "ipython3",
   "version": "3.7.12"
  }
 },
 "nbformat": 4,
 "nbformat_minor": 5
}
